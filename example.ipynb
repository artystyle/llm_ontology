{
 "cells": [
  {
   "cell_type": "markdown",
   "metadata": {},
   "source": [
    "# Онтологический анализатор нормативных документов\n",
    "## Генерация и оценка онтологий с использованием LLM\n",
    "\n",
    "Импорт основных компонентов из модуля `src.llm_ontology`:"
   ]
  },
  {
   "cell_type": "code",
   "execution_count": null,
   "metadata": {},
   "outputs": [],
   "source": [
    "# Установка зависимостей\n",
    "!pip install owlready2 openai scikit-learn matplotlib networkx pandas"
   ]
  },
  {
   "cell_type": "code",
   "execution_count": null,
   "metadata": {},
   "outputs": [],
   "source": [
    "import json\n",
    "import pandas as pd\n",
    "from IPython.display import display, Markdown\n",
    "import matplotlib.pyplot as plt\n",
    "import warnings\n",
    "\n",
    "# Импорт основных классов из модуля\n",
    "from src.llm_ontology import OntologyGenerator, OntologyEvaluator\n",
    "\n",
    "# Настройка отображения\n",
    "%matplotlib inline\n",
    "warnings.filterwarnings(\"ignore\", category=UserWarning)\n",
    "plt.style.use('ggplot')"
   ]
  },
  {
   "cell_type": "markdown",
   "metadata": {},
   "source": [
    "## 1. Подготовка тестовых данных"
   ]
  },
  {
   "cell_type": "code",
   "execution_count": null,
   "metadata": {},
   "outputs": [],
   "source": [
    "law_text = \"\"\"\n",
    "Закон о персональных данных\n",
    "\n",
    "Статья 1. Основные понятия\n",
    "1. Персональные данные - любая информация, относящаяся к прямо или косвенно определенному физическому лицу.\n",
    "2. Оператор - государственный орган, юридическое лицо, обрабатывающее персональные данные.\n",
    "\n",
    "Статья 2. Принципы обработки\n",
    "1. Обработка должна осуществляться на законной основе.\n",
    "2. Объем данных должен соответствовать заявленным целям.\n",
    "\n",
    "Статья 3. Права субъекта\n",
    "1. Субъект имеет право на доступ к своим данным.\n",
    "2. Субъект может требовать удаления данных.\n",
    "\"\"\"\n",
    "\n",
    "with open(\"test_law.txt\", \"w\", encoding=\"utf-8\") as f:\n",
    "    f.write(law_text)\n",
    "\n",
    "# Gold standard для оценки\n",
    "gold_standard = {\n",
    "    \"elements\": [\n",
    "        \"ПерсональныеДанные\", \n",
    "        \"Оператор\", \n",
    "        \"СубъектДанных\",\n",
    "        \"обрабатывает\",\n",
    "        \"имеет\"\n",
    "    ]\n",
    "}\n",
    "\n",
    "with open(\"gold_standard.json\", \"w\", encoding=\"utf-8\") as f:\n",
    "    json.dump(gold_standard, f, ensure_ascii=False, indent=2)"
   ]
  },
  {
   "cell_type": "markdown",
   "metadata": {},
   "source": [
    "## 2. Генерация онтологии"
   ]
  },
  {
   "cell_type": "code",
   "execution_count": null,
   "metadata": {},
   "outputs": [],
   "source": [
    "# Инициализация генератора\n",
    "generator = OntologyGenerator(\n",
    "    llm_model=\"gpt-3.5-turbo\",\n",
    "    api_key=\"ваш_api_ключ\",  # Замените на реальный ключ\n",
    "    base_url=None  # Для локальных моделей укажите URL\n",
    ")\n",
    "\n",
    "# Генерация онтологии\n",
    "display(Markdown(\"### Генерация онтологии из текста закона...\"))\n",
    "ontology = generator.generate_from_text(law_text, \"privacy_law\")\n",
    "\n",
    "if ontology:\n",
    "    ontology.save(file=\"privacy_law.owl\", format=\"rdfxml\")\n",
    "    display(Markdown(f\"✅ Успешно сгенерировано {len(list(ontology.classes()))} классов и {len(list(ontology.object_properties()))} свойств\"))\n",
    "else:\n",
    "    display(Markdown(\"❌ Ошибка генерации онтологии\"))"
   ]
  },
  {
   "cell_type": "markdown",
   "metadata": {},
   "source": [
    "## 3. Визуализация онтологии"
   ]
  },
  {
   "cell_type": "code",
   "execution_count": null,
   "metadata": {},
   "outputs": [],
   "source": [
    "if ontology:\n",
    "    evaluator = OntologyEvaluator(\"privacy_law.owl\")\n",
    "    display(Markdown(\"### Визуализация иерархии классов\"))\n",
    "    evaluator.visualize_hierarchy()\n",
    "else:\n",
    "    display(Markdown(\"❌ Невозможно визуализировать: онтология не сгенерирована\"))"
   ]
  },
  {
   "cell_type": "markdown",
   "metadata": {},
   "source": [
    "## 4. Оценка качества онтологии"
   ]
  },
  {
   "cell_type": "code",
   "execution_count": null,
   "metadata": {},
   "outputs": [],
   "source": [
    "if ontology:\n",
    "    # Генерация вопросов компетентности\n",
    "    display(Markdown(\"### Генерация вопросов компетентности (CQ)...\"))\n",
    "    cq_list = generator.generate_competency_questions(ontology, num_questions=5)\n",
    "    \n",
    "    if cq_list:\n",
    "        display(Markdown(\"#### Сгенерированные CQ:\"))\n",
    "        for i, cq in enumerate(cq_list, 1):\n",
    "            display(Markdown(f\"{i}. {cq}\"))\n",
    "    else:\n",
    "        display(Markdown(\"❌ Не удалось сгенерировать CQ\"))\n",
    "    \n",
    "    # Расчет метрик\n",
    "    display(Markdown(\"### Расчет метрик качества\"))\n",
    "    \n",
    "    with open(\"gold_standard.json\", \"r\", encoding=\"utf-8\") as f:\n",
    "        gold_standard = json.load(f)\n",
    "    \n",
    "    # Подготовка данных системы\n",
    "    system_output = {\n",
    "        \"elements\": [\n",
    "            c.name for c in ontology.classes()\n",
    "        ] + [\n",
    "            p.name for p in ontology.object_properties()\n",
    "        ]\n",
    "    }\n",
    "    \n",
    "    # Вычисление метрик\n",
    "    cq_coverage = evaluator.calculate_cq_coverage(cq_list, cq_list[:4]) if cq_list else 0.0\n",
    "    error_index = evaluator.detect_ontology_errors()\n",
    "    f1 = evaluator.evaluate_f1(gold_standard, system_output)\n",
    "    depth = evaluator.calculate_hierarchy_depth()\n",
    "    \n",
    "    # Семантическая оценка\n",
    "    g_eval_prompt = \"\"\"Оцените от 1 до 5, насколько класс '{class_name}' соответствует документу:\n",
    "    Определение класса: {class_definition}\n",
    "    Контекст документа: {document_text}\"\"\"\n",
    "    semantic_score = evaluator.semantic_evaluation(law_text, g_eval_prompt)\n",
    "    \n",
    "    # Вывод результатов\n",
    "    metrics_data = {\n",
    "        \"Метрика\": [\"Покрытие CQ\", \"Индекс ошибок\", \"F1-Score\", \"Глубина иерархии\", \"Семантическая оценка\"],\n",
    "        \"Значение\": [cq_coverage, error_index, f1, depth, semantic_score],\n",
    "        \"Целевое\": [0.85, 0.05, 0.8, \"4-6\", 4.0]\n",
    "    }\n",
    "    \n",
    "    display(Markdown(\"#### Таблица метрик:\"))\n",
    "    display(pd.DataFrame(metrics_data).style\\\n",
    "        .bar(subset=['Значение'], align='mid', color=['#d65f5f', '#5fba7d']))\n",
    "else:\n",
    "    display(Markdown(\"❌ Невозможно оценить: онтология не сгенерирована\"))"
   ]
  },
  {
   "cell_type": "markdown",
   "metadata": {},
   "source": [
    "## 5. Генерация отчета"
   ]
  },
  {
   "cell_type": "code",
   "execution_count": null,
   "metadata": {},
   "outputs": [],
   "source": [
    "if ontology:\n",
    "    report = evaluator.generate_report()\n",
    "    \n",
    "    display(Markdown(\"### Полный отчет о качестве онтологии\"))\n",
    "    display(Markdown(f\"```json\\n{json.dumps(report, indent=2, ensure_ascii=False)}\\n```\"))\n",
    "    \n",
    "    # Сохранение отчета\n",
    "    with open(\"ontology_report.json\", \"w\", encoding=\"utf-8\") as f:\n",
    "        json.dump(report, f, ensure_ascii=False, indent=2)\n",
    "    \n",
    "    display(Markdown(\"### Отчет сохранен в `ontology_report.json`\"))\n",
    "else:\n",
    "    display(Markdown(\"❌ Невозможно сгенерировать отчет\"))"
   ]
  }
 ],
 "metadata": {
  "kernelspec": {
   "display_name": "Python 3 (ipykernel)",
   "language": "python",
   "name": "python3"
  },
  "language_info": {
   "codemirror_mode": {
    "name": "ipython",
    "version": 3
   },
   "file_extension": ".py",
   "mimetype": "text/x-python",
   "name": "python",
   "nbconvert_exporter": "python",
   "pygments_lexer": "ipython3",
   "version": "3.9.7"
  }
 },
 "nbformat": 4,
 "nbformat_minor": 4
}