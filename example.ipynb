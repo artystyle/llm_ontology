{
 "cells": [
  {
   "cell_type": "markdown",
   "metadata": {},
   "source": [
    "# Онтологический анализатор нормативных документов\n",
    "## Генерация и оценка онтологий с использованием LLM\n",
    "\n",
    "Импорт основных компонентов из модуля `ontology_system`:"
   ]
  },
  {
   "cell_type": "code",
   "execution_count": null,
   "metadata": {},
   "outputs": [],
   "source": [
    "# Установка зависимостей\n",
    "!pip install owlready2 openai scikit-learn matplotlib"
   ]
  },
  {
   "cell_type": "code",
   "execution_count": null,
   "metadata": {},
   "outputs": [],
   "source": [
    "import json\n",
    "from IPython.display import display, Markdown\n",
    "import matplotlib.pyplot as plt\n",
    "import warnings\n",
    "\n",
    "# Импорт основных классов из модуля\n",
    "from src.llm_ontology import OntologyGenerator, OntologyEvaluator\n",
    "\n",
    "# Настройка отображения\n",
    "%matplotlib inline\n",
    "warnings.filterwarnings(\"ignore\", category=UserWarning)\n",
    "plt.style.use('ggplot')"
   ]
  },
  {
   "cell_type": "markdown",
   "metadata": {},
   "source": [
    "## 1. Подготовка тестовых данных"
   ]
  },
  {
   "cell_type": "code",
   "execution_count": null,
   "metadata": {},
   "outputs": [],
   "source": [
    "law_text = \"\"\"\n",
    "Закон о персональных данных\n",
    "\n",
    "Статья 1. Основные понятия\n",
    "1. Персональные данные - любая информация, относящаяся к прямо или косвенно определенному физическому лицу.\n",
    "2. Оператор - государственный орган, юридическое лицо, обрабатывающее персональные данные.\n",
    "\n",
    "Статья 2. Принципы обработки\n",
    "1. Обработка должна осуществляться на законной основе.\n",
    "2. Объем данных должен соответствовать заявленным целям.\n",
    "\n",
    "Статья 3. Права субъекта\n",
    "1. Субъект имеет право на доступ к своим данным.\n",
    "2. Субъект может требовать удаления данных.\n",
    "\"\"\"\n",
    "\n",
    "with open(\"test_law.txt\", \"w\", encoding=\"utf-8\") as f:\n",
    "    f.write(law_text)\n",
    "\n",
    "# Gold standard для оценки\n",
    "gold_standard = {\n",
    "    \"classes\": [\"ПерсональныеДанные\", \"Оператор\", \"СубъектДанных\"],\n",
    "    \"relations\": [\n",
    "        {\"source\": \"Оператор\", \"target\": \"ПерсональныеДанные\", \"type\": \"обрабатывает\"},\n",
    "        {\"source\": \"СубъектДанных\", \"target\": \"ПерсональныеДанные\", \"type\": \"имеет\"}\n",
    "    ]\n",
    "}\n",
    "\n",
    "with open(\"gold_standard.json\", \"w\", encoding=\"utf-8\") as f:\n",
    "    json.dump(gold_standard, f, ensure_ascii=False, indent=2)"
   ]
  },
  {
   "cell_type": "markdown",
   "metadata": {},
   "source": [
    "## 2. Генерация онтологии"
   ]
  },
  {
   "cell_type": "code",
   "execution_count": null,
   "metadata": {},
   "outputs": [],
   "source": [
    "# Инициализация генератора (в production укажите реальный API ключ)\n",
    "# openai.api_key = \"ваш_api_ключ\"\n",
    "generator = OntologyGenerator(llm_model=\"gpt-3.5-turbo\",  api_key=API_KEY)\n",
    "\n",
    "# Генерация онтологии\n",
    "display(Markdown(\"### Генерация онтологии из текста закона...\"))\n",
    "ontology = generator.generate_from_text(law_text, \"privacy_law\")\n",
    "ontology.save(file=\"privacy_law.owl\", format=\"rdfxml\")\n",
    "\n",
    "# Генерация вопросов компетентности\n",
    "display(Markdown(\"### Генерация вопросов компетентности (CQ)...\"))\n",
    "cq_list = generator.generate_competency_questions(ontology, num_questions=5)\n",
    "\n",
    "display(Markdown(\"#### Сгенерированные CQ:\"))\n",
    "for i, cq in enumerate(cq_list, 1):\n",
    "    display(Markdown(f\"{i}. {cq}\"))"
   ]
  },
  {
   "cell_type": "markdown",
   "metadata": {},
   "source": [
    "## 3. Визуализация онтологии"
   ]
  },
  {
   "cell_type": "code",
   "execution_count": null,
   "metadata": {},
   "outputs": [],
   "source": [
    "# Инициализация оценщика\n",
    "evaluator = OntologyEvaluator(\"privacy_law.owl\")\n",
    "\n",
    "# Визуализация иерархии классов\n",
    "display(Markdown(\"### Визуализация иерархии классов\"))\n",
    "evaluator.visualize_hierarchy()"
   ]
  },
  {
   "cell_type": "markdown",
   "metadata": {},
   "source": [
    "## 4. Оценка качества онтологии"
   ]
  },
  {
   "cell_type": "code",
   "execution_count": null,
   "metadata": {},
   "outputs": [],
   "source": [
    "# Вычисление метрик\n",
    "display(Markdown(\"### Расчет метрик качества\"))\n",
    "\n",
    "# Покрытие CQ (предположим, что ответили на 4 из 5)\n",
    "cq_coverage = evaluator.calculate_cq_coverage(cq_list, cq_list[:4])\n",
    "\n",
    "# Индекс ошибок\n",
    "error_index = evaluator.detect_ontology_errors()\n",
    "\n",
    "# F1-Score\n",
    "with open(\"gold_standard.json\", \"r\", encoding=\"utf-8\") as f:\n",
    "    gold_standard = json.load(f)\n",
    "f1 = evaluator.evaluate_f1(gold_standard, ontology)\n",
    "\n",
    "# Глубина иерархии\n",
    "depth = evaluator.calculate_hierarchy_depth()\n",
    "\n",
    "# Семантическая оценка\n",
    "g_eval_prompt = \"\"\"Оцените от 1 до 5, насколько класс '{class_name}' соответствует документу:\n",
    "Определение класса: {class_definition}\n",
    "Контекст документа: {document_text}\"\"\"\n",
    "semantic_score = evaluator.semantic_evaluation(law_text, g_eval_prompt)\n",
    "\n",
    "# Вывод результатов\n",
    "metrics_data = {\n",
    "    \"Метрика\": [\"Покрытие CQ\", \"Индекс ошибок\", \"F1-Score\", \"Глубина иерархии\", \"Семантическая оценка\"],\n",
    "    \"Значение\": [cq_coverage, error_index, f1, depth, semantic_score],\n",
    "    \"Целевое\": [0.85, 0.05, 0.8, \"4-6\", 4.0]\n",
    "}\n",
    "\n",
    "display(Markdown(\"#### Таблица метрик:\"))\n",
    "display(pd.DataFrame(metrics_data).style\\\n",
    "    .bar(subset=['Значение'], align='mid', color=['#d65f5f', '#5fba7d']))"
   ]
  },
  {
   "cell_type": "markdown",
   "metadata": {},
   "source": [
    "## 5. Визуализация результатов"
   ]
  },
  {
   "cell_type": "code",
   "execution_count": null,
   "metadata": {},
   "outputs": [],
   "source": [
    "# Графическое представление метрик\n",
    "plt.figure(figsize=(10, 5))\n",
    "\n",
    "metrics = ['CQ Coverage', 'Error Index', 'F1-Score', 'Semantic Score']\n",
    "values = [cq_coverage, 1-error_index, f1, semantic_score/5]  # Нормализация\n",
    "targets = [0.85, 0.95, 0.8, 0.8]  # Целевые значения (нормализованные)\n",
    "\n",
    "x = range(len(metrics))\n",
    "width = 0.35\n",
    "\n",
    "plt.bar(x, values, width, label='Текущие')\n",
    "plt.bar([p + width for p in x], targets, width, label='Целевые')\n",
    "\n",
    "plt.xticks([p + width/2 for p in x], metrics)\n",
    "plt.title(\"Сравнение метрик с целевыми значениями\")\n",
    "plt.legend()\n",
    "plt.grid(axis='y', alpha=0.3)\n",
    "plt.tight_layout()\n",
    "plt.show()"
   ]
  },
  {
   "cell_type": "markdown",
   "metadata": {},
   "source": [
    "## 6. Генерация отчета"
   ]
  },
  {
   "cell_type": "code",
   "execution_count": null,
   "metadata": {},
   "outputs": [],
   "source": [
    "# Формирование полного отчета\n",
    "report = {\n",
    "    \"metadata\": {\n",
    "        \"project\": \"Анализ закона о персональных данных\",\n",
    "        \"date\": pd.Timestamp.now().strftime(\"%Y-%m-%d\")\n",
    "    },\n",
    "    \"metrics\": {\n",
    "        \"cq_coverage\": cq_coverage,\n",
    "        \"error_index\": error_index,\n",
    "        \"f1_score\": f1,\n",
    "        \"hierarchy_depth\": depth,\n",
    "        \"semantic_score\": semantic_score\n",
    "    },\n",
    "    \"recommendations\": evaluator.generate_recommendations()\n",
    "}\n",
    "\n",
    "# Сохранение отчета\n",
    "with open(\"ontology_report.json\", \"w\", encoding=\"utf-8\") as f:\n",
    "    json.dump(report, f, ensure_ascii=False, indent=2)\n",
    "\n",
    "display(Markdown(\"### Отчет успешно сохранен в `ontology_report.json`\"))\n",
    "display(Markdown(\"#### Ключевые рекомендации:\"))\n",
    "for rec in report[\"recommendations\"]:\n",
    "    display(Markdown(f\"- {rec}\"))"
   ]
  }
 ],
 "metadata": {
  "kernelspec": {
   "display_name": "Python 3 (ipykernel)",
   "language": "python",
   "name": "python3"
  },
  "language_info": {
   "codemirror_mode": {
    "name": "ipython",
    "version": 3
   },
   "file_extension": ".py",
   "mimetype": "text/x-python",
   "name": "python",
   "nbconvert_exporter": "python",
   "pygments_lexer": "ipython3",
   "version": "3.9.7"
  }
 },
 "nbformat": 4,
 "nbformat_minor": 4
}
